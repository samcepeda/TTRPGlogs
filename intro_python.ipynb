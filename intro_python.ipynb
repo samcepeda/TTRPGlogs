{
  "nbformat": 4,
  "nbformat_minor": 0,
  "metadata": {
    "colab": {
      "provenance": [],
      "include_colab_link": true
    },
    "kernelspec": {
      "name": "python3",
      "display_name": "Python 3"
    },
    "language_info": {
      "name": "python"
    }
  },
  "cells": [
    {
      "cell_type": "markdown",
      "metadata": {
        "id": "view-in-github",
        "colab_type": "text"
      },
      "source": [
        "<a href=\"https://colab.research.google.com/github/samcepeda/TTRPGlogs/blob/main/intro_python.ipynb\" target=\"_parent\"><img src=\"https://colab.research.google.com/assets/colab-badge.svg\" alt=\"Open In Colab\"/></a>"
      ]
    },
    {
      "cell_type": "markdown",
      "source": [
        "# Introducción a Python\n",
        "\n",
        "Python es un lenguaje de programación orientado a objetos.  Se ha popularizado en el campo de inteligencia artificial y la ciencia de datos.\n"
      ],
      "metadata": {
        "id": "klDnUuPUtg_m"
      }
    },
    {
      "cell_type": "markdown",
      "source": [
        "\n",
        "## Documentación\n",
        "\n",
        "Para aprender un lenguaje de programación se necesita programar, pero también es necesario tener a la mano documentos con información sobre cómo usar el lenguaje.  Hay varios tipos de documentos de consulta para tener en cuenta.\n",
        "\n",
        "La documentación oficial de Python se encuentra en: https://docs.python.org/es/3/\n",
        "\n"
      ],
      "metadata": {
        "id": "gM8YT97Gdr5b"
      }
    },
    {
      "cell_type": "markdown",
      "source": [
        "### Referencias\n",
        "\n",
        "Las referencias son como los diccionarios de un idioma como el español, que contiene listados de palabras y sus significados.  En el caso de los lenguajes de programación, las referencias son documentos con información de las \"palabras\" (objetos, funciones, propiedades) con las que se construyen los programas.\n",
        "\n",
        "Aprender a consultar referencias es un aspecto imprtante de la programación.\n",
        "\n",
        "Las referencias más relevantes para este momento son:\n",
        "\n",
        "- Referencia del lenguaje: https://docs.python.org/es/3/reference/index.html\n",
        "\n",
        "- Referencia de la librería estándar: https://docs.python.org/es/3/library/index.html\n"
      ],
      "metadata": {
        "id": "fBp3pf04eXV9"
      }
    },
    {
      "cell_type": "markdown",
      "source": [
        "\n",
        "## Lección\n",
        "\n",
        "Comencemos con el concepto más básico.\n",
        "\n",
        "\n",
        "\n"
      ],
      "metadata": {
        "id": "_e2kLHqDtqVU"
      }
    },
    {
      "cell_type": "markdown",
      "source": [
        "### Variables\n",
        "\n",
        "Las variables son contenedores de datos.  Es un espacio de memoria con un nombre en el que se guarda información. Una variable se puede leer (obtener el dato guadado) y se puede escribir (cambiar el dato).\n",
        "\n",
        "Las variables se declaran primero y luego se les asigna un valor."
      ],
      "metadata": {
        "id": "qjxqpREaee6e"
      }
    },
    {
      "cell_type": "markdown",
      "source": [
        "#### Números enteros\n",
        "\n",
        "Es un tipo de dato para guardar y manipular números enteros."
      ],
      "metadata": {
        "id": "8E6Kj3fIf6K8"
      }
    },
    {
      "cell_type": "code",
      "source": [
        "  #Esta línea declara una variable de nombre \"edad\" y le asigna el valor 10.\n",
        "  edad = 12\n",
        "  #Esta línea 'llama' o 'lee' la variable\n",
        "  print(edad)"
      ],
      "metadata": {
        "id": "Q8JfUnkvwlcN",
        "colab": {
          "base_uri": "https://localhost:8080/"
        },
        "outputId": "b886100d-2362-49a1-810f-6583d4c956c5"
      },
      "execution_count": null,
      "outputs": [
        {
          "output_type": "stream",
          "name": "stdout",
          "text": [
            "12\n"
          ]
        }
      ]
    },
    {
      "cell_type": "markdown",
      "source": [
        "Es posible cambiar el valor de una variable usando la variable misma.  Cada vez que se ejecute la siguiente celda, el valor de la variable 'edad' va a aumentar en uno."
      ],
      "metadata": {
        "id": "AIuZ5Gpt4kR8"
      }
    },
    {
      "cell_type": "code",
      "source": [
        "edad = edad + 1\n",
        "#En Jupyter no siempre es necesario usar print() para inspeccionar una variable\n",
        "print(edad)"
      ],
      "metadata": {
        "colab": {
          "base_uri": "https://localhost:8080/"
        },
        "id": "Ohc0JhVL4jTq",
        "outputId": "a77bf5f9-c61f-41e7-c754-cf1f5d92d5f2"
      },
      "execution_count": null,
      "outputs": [
        {
          "output_type": "stream",
          "name": "stdout",
          "text": [
            "13\n"
          ]
        }
      ]
    },
    {
      "cell_type": "markdown",
      "source": [
        "#### Números decimales o coma flotante.\n",
        "\n",
        "Números con una fracción, que se escriben con un punto: ```3.1416```"
      ],
      "metadata": {
        "id": "1uzHkJdxgHPM"
      }
    },
    {
      "cell_type": "code",
      "source": [
        "#supongamos que ancho y alto son centímetros\n",
        "ancho = 10.5\n",
        "alto = 12.3\n",
        "\n",
        "area = ancho * alto\n",
        "area"
      ],
      "metadata": {
        "colab": {
          "base_uri": "https://localhost:8080/"
        },
        "id": "5AuOsO67gpOm",
        "outputId": "c32a1b85-b848-465d-8246-49e72cc83c3c"
      },
      "execution_count": null,
      "outputs": [
        {
          "output_type": "execute_result",
          "data": {
            "text/plain": [
              "129.15"
            ]
          },
          "metadata": {},
          "execution_count": 4
        }
      ]
    },
    {
      "cell_type": "markdown",
      "source": [
        "#### Textos o strings\n",
        "\n",
        "Los strings son secuencias o cadenas de caracteres.  Con ellas podemos hacer operaciones.  Por ejemplo, al usar el operador ```+``` con strings el resultado es una concatenación de textos."
      ],
      "metadata": {
        "id": "e6BigaLHwsge"
      }
    },
    {
      "cell_type": "code",
      "source": [
        "nombre = \"Beatriz\"\n",
        "apellido = \"González\"\n",
        "\n",
        "nombre_apellido = nombre + \" \" + apellido\n",
        "nombre_apellido"
      ],
      "metadata": {
        "id": "teuQLESoJ-tJ"
      },
      "execution_count": null,
      "outputs": []
    },
    {
      "cell_type": "code",
      "source": [
        "\n",
        "\n",
        "nombre_apellido = f\"Mi nombre es: {nombre}, y mi apellido es: {apellido}\"\n",
        "\n",
        "nombre_apellido"
      ],
      "metadata": {
        "id": "3Ms-3bZCwjZd"
      },
      "execution_count": null,
      "outputs": []
    },
    {
      "cell_type": "markdown",
      "source": [
        "Ahora intentemos usar un ```string``` y un ```int``` en una concatenación con el operador ```+```."
      ],
      "metadata": {
        "id": "A1LG7usdP_bA"
      }
    },
    {
      "cell_type": "code",
      "source": [
        "nombre_apellido + \" tiene \" + edad + \" años\""
      ],
      "metadata": {
        "id": "jLfkqN-qLm92"
      },
      "execution_count": null,
      "outputs": []
    },
    {
      "cell_type": "markdown",
      "source": [
        "El error en la línea anterior sucede porque estamos intentanto concatenar un string con un entero, pero el entero no es un string o char, por lo que necesitamos hacer una conversion al concatenar. Para esta conversión podemos usar str():"
      ],
      "metadata": {
        "id": "vhGDGeejQPzl"
      }
    },
    {
      "cell_type": "code",
      "source": [
        "nombre_apellido + \" tiene \" + str(edad) + \" años\""
      ],
      "metadata": {
        "id": "9RPJpJkEQiTT"
      },
      "execution_count": null,
      "outputs": []
    },
    {
      "cell_type": "markdown",
      "source": [
        "Igualmente, al intentar sumar un ```int``` con un ```string``` vamos a obtener un error:"
      ],
      "metadata": {
        "id": "oq_VeziKR3vM"
      }
    },
    {
      "cell_type": "code",
      "source": [
        "cantidad1 = 10\n",
        "cantidad2 = '20'\n",
        "cantidad1 + cantidad2"
      ],
      "metadata": {
        "id": "LCl4JdE0Q0oR"
      },
      "execution_count": null,
      "outputs": []
    },
    {
      "cell_type": "markdown",
      "source": [
        "En este caso la solución es hacer una conversión de ```string``` a ```int```, usando la función ```int()```."
      ],
      "metadata": {
        "id": "hVqjR6QeSJWP"
      }
    },
    {
      "cell_type": "code",
      "source": [
        "\n",
        "cantidad1 + int(cantidad2)"
      ],
      "metadata": {
        "id": "s4l2PX0aRsa1"
      },
      "execution_count": null,
      "outputs": []
    },
    {
      "cell_type": "markdown",
      "source": [
        "#### Datos compuestos\n",
        "\n",
        "Los datos compuestos son tipos de datos que estan \"hechos\" de tipos de datos primitivos\n"
      ],
      "metadata": {
        "id": "JF5lXqlXximu"
      }
    },
    {
      "cell_type": "markdown",
      "source": [
        "#### Listas\n",
        "\n",
        "Las listas son conjuntos de valores.  Una lista se declara con una sucesión de valores separados por comas, encerrados en ```[]```."
      ],
      "metadata": {
        "id": "hN35gOPNfyxc"
      }
    },
    {
      "cell_type": "markdown",
      "source": [],
      "metadata": {
        "id": "Zk6POFAKwgu_"
      }
    },
    {
      "cell_type": "code",
      "source": [
        "etiquetas = [\"pintura\", \"Colombia\", \"violencia\",\"gráfica\",\"arte popular\"]\n",
        "etiquetas"
      ],
      "metadata": {
        "id": "_xCauGE3yA-Q"
      },
      "execution_count": null,
      "outputs": []
    },
    {
      "cell_type": "markdown",
      "source": [
        "Podemos referenciar los valores de una lista por su posición.    Se dice que en Python las listas son indexadas por 0, es decir que el primer elemento es el elemento número 0, el segundo es el número 1.  Cambia el número dentro de los ```[]``` para llamar otro valor dentro de la lista."
      ],
      "metadata": {
        "id": "0mAxWyJMyTby"
      }
    },
    {
      "cell_type": "code",
      "source": [
        "etiquetas[2]\n"
      ],
      "metadata": {
        "id": "aj2ps2VuutwC"
      },
      "execution_count": null,
      "outputs": []
    },
    {
      "cell_type": "code",
      "source": [
        "etiquetas[5]"
      ],
      "metadata": {
        "id": "YlZrvncfzC0w"
      },
      "execution_count": null,
      "outputs": []
    },
    {
      "cell_type": "markdown",
      "source": [
        "El error ```IndexError: list index out of range``` significa que estamos intentando acceder a un elemento que no existe, es decir que el índice está por fuera del rango de elementos de la lista.\n",
        "\n",
        "Para saber cuántos elementos hay en una lista usamos la función ```len()```\n"
      ],
      "metadata": {
        "id": "vXVAd4ZqzWOA"
      }
    },
    {
      "cell_type": "code",
      "source": [
        "len(etiquetas)"
      ],
      "metadata": {
        "id": "15y7C6j1fYJ3"
      },
      "execution_count": null,
      "outputs": []
    },
    {
      "cell_type": "markdown",
      "source": [
        "Podemos usar números negativos para indicar un índice, contando desde el final de la lista hacia el inicio:"
      ],
      "metadata": {
        "id": "0wgNZwZ7e0VS"
      }
    },
    {
      "cell_type": "code",
      "source": [
        "etiquetas[-2]"
      ],
      "metadata": {
        "id": "F8Z0DBGHeztW"
      },
      "execution_count": null,
      "outputs": []
    },
    {
      "cell_type": "markdown",
      "source": [
        "Una forma de acceder a varios elementos en una lista es a través de slicing:"
      ],
      "metadata": {
        "id": "G0PPESM_eGMU"
      }
    },
    {
      "cell_type": "code",
      "source": [
        "etiquetas[1:3]"
      ],
      "metadata": {
        "id": "xZ6G1qGneFg5"
      },
      "execution_count": null,
      "outputs": []
    },
    {
      "cell_type": "markdown",
      "source": [
        "Podemos indicar sólo un índice de inicio:"
      ],
      "metadata": {
        "id": "CMYwiyKHeeeh"
      }
    },
    {
      "cell_type": "code",
      "source": [
        "etiquetas[3:]"
      ],
      "metadata": {
        "id": "UEkTSQvUei4c"
      },
      "execution_count": null,
      "outputs": []
    },
    {
      "cell_type": "markdown",
      "source": [
        "También podemos indicar el índice final:"
      ],
      "metadata": {
        "id": "-lF2-tOVeoyb"
      }
    },
    {
      "cell_type": "code",
      "source": [
        "etiquetas[:3]"
      ],
      "metadata": {
        "id": "ZT53GSnnetOg"
      },
      "execution_count": null,
      "outputs": []
    },
    {
      "cell_type": "markdown",
      "source": [
        "#### Diccionarios\n",
        "\n",
        "Los diccionarios almacenan series de datos, pero cada dato tiene un nombre. Al nombre del dato se le llama llave o ```key```:"
      ],
      "metadata": {
        "id": "_yP85bVaBMmC"
      }
    },
    {
      "cell_type": "code",
      "source": [
        "artista = {\n",
        "    'nombre': 'Beatriz',\n",
        "    'apellido': 'González',\n",
        "    'edad': 25,\n",
        "    'ciudad_nacimiento': 'Bucaramanga',\n",
        "    'profesion': 'Artista'\n",
        "}\n"
      ],
      "metadata": {
        "id": "j-1oFBL3B7sZ"
      },
      "execution_count": null,
      "outputs": []
    },
    {
      "cell_type": "markdown",
      "source": [
        "Para obtener los valores usamos los nombres de los valores, o _keys_ (llaves):"
      ],
      "metadata": {
        "id": "WF6CI8qOCJMM"
      }
    },
    {
      "cell_type": "code",
      "source": [
        "artista['ciudad_nacimiento']"
      ],
      "metadata": {
        "id": "xSeh2RCuCSOV"
      },
      "execution_count": null,
      "outputs": []
    },
    {
      "cell_type": "markdown",
      "source": [
        "Un diccionario puede tener otros diccionarios dentro de sus propiedades:"
      ],
      "metadata": {
        "id": "-ZXBAhjqflpI"
      }
    },
    {
      "cell_type": "code",
      "source": [
        "obra =  {\n",
        "    \"ID\": 1,\n",
        "    \"creator\": \"Beatriz González\",\n",
        "    \"title\": \"Los Suicidas del Sisga No 1\",\n",
        "    \"date\": \"1965-01-01\",\n",
        "    \"dimensiones\":{\n",
        "        \"ancho\": 120,\n",
        "        \"alto\": 100\n",
        "    },\n",
        "    \"medium\": \"Óleo sobre lienzo\"\n",
        "  }"
      ],
      "metadata": {
        "id": "eDp9J10YftbB"
      },
      "execution_count": null,
      "outputs": []
    },
    {
      "cell_type": "markdown",
      "source": [
        "Podemos acceder a los elementos del diccionario interno"
      ],
      "metadata": {
        "id": "AJs5nbHtgMQL"
      }
    },
    {
      "cell_type": "code",
      "source": [
        "obra['dimensiones']['ancho']"
      ],
      "metadata": {
        "id": "X6U8GmoEgLP5"
      },
      "execution_count": null,
      "outputs": []
    },
    {
      "cell_type": "markdown",
      "source": [
        "### Funciones\n",
        "\n",
        "Las funciones son fragmentos de código con un nombre.  El código se ejecuta cuando se llama el nombre.\n",
        "\n",
        "En la siguiente celda se define la función"
      ],
      "metadata": {
        "id": "EBL8N4D10i4w"
      }
    },
    {
      "cell_type": "code",
      "source": [
        "def saludar():\n",
        "  print(\"Hola Camilo\")\n",
        "  print(\"¿Cómo estás?\")"
      ],
      "metadata": {
        "id": "uw4zHWbZ5TJE"
      },
      "execution_count": null,
      "outputs": []
    },
    {
      "cell_type": "markdown",
      "source": [
        "En esta celda se llama la función, ejecutando su código.  Podemos distinguir la llamada a una función por la presencia de los ```()```."
      ],
      "metadata": {
        "id": "fGjG32N46jU-"
      }
    },
    {
      "cell_type": "code",
      "source": [
        "saludar()"
      ],
      "metadata": {
        "id": "YTuGtevd56pe"
      },
      "execution_count": null,
      "outputs": []
    },
    {
      "cell_type": "markdown",
      "source": [
        "> __Sobre el sangrado o indentación__: En python el sangrado o la indentación de las líneas tiene una función y es indicar que un bloque de código pertenece a un contexto de ejecución, como el código que hace parte de una función o de una iteración. Considere el siguiente código:"
      ],
      "metadata": {
        "id": "ainrkjUNlFR2"
      }
    },
    {
      "cell_type": "code",
      "source": [
        "#Esta línea define la función\n",
        "#Termina en : para indicar que comienza el código de la función\n",
        "def poema():\n",
        "  #Las siguientes tres líneas estan indentadas,\n",
        "  #por lo tanto hacen parte de la función\n",
        "  print(\"Bajo la lluvia de verano\")\n",
        "  print(\"El sendero\")\n",
        "  print(\"Desapareció\")\n",
        "\n",
        "#Esta línea ya no está indentada, por lo que ya no hace parte de la función.\n",
        "#En este punto ya se puede llamar la función definida arriba\n",
        "poema()"
      ],
      "metadata": {
        "id": "IqCF3G2opRSe"
      },
      "execution_count": null,
      "outputs": []
    },
    {
      "cell_type": "markdown",
      "source": [
        "Existen funciones con parámetros, que son datos que se pasan a la función al momento de llamarla.  Este dato se usa en la ejecucución de la función:"
      ],
      "metadata": {
        "id": "a-qbULrn8W8g"
      }
    },
    {
      "cell_type": "code",
      "source": [
        "def saludar_persona(n):\n",
        "  print(\"Hola \" + str(n))"
      ],
      "metadata": {
        "id": "nARyKqMazolp"
      },
      "execution_count": null,
      "outputs": []
    },
    {
      "cell_type": "markdown",
      "source": [
        "Aquí la función es llamada con un parámetro"
      ],
      "metadata": {
        "id": "JIsxgyXT8nRA"
      }
    },
    {
      "cell_type": "code",
      "source": [
        "saludar_persona('Camilo')"
      ],
      "metadata": {
        "id": "dsKUnBvZ8ruF"
      },
      "execution_count": null,
      "outputs": []
    },
    {
      "cell_type": "markdown",
      "source": [
        "Podemos pasar variables como parámetros de la llamada a una función:"
      ],
      "metadata": {
        "id": "reifod5Hjoyj"
      }
    },
    {
      "cell_type": "code",
      "source": [
        "saludar_persona(nombre)"
      ],
      "metadata": {
        "id": "oQlg92HCjyPn"
      },
      "execution_count": null,
      "outputs": []
    },
    {
      "cell_type": "markdown",
      "source": [
        "O incluso un valor dentro de un diccionario"
      ],
      "metadata": {
        "id": "KwftSiBUkDQd"
      }
    },
    {
      "cell_type": "code",
      "source": [
        "saludar_persona(artista['nombre'])"
      ],
      "metadata": {
        "id": "goeKmEkOkL6b"
      },
      "execution_count": null,
      "outputs": []
    },
    {
      "cell_type": "markdown",
      "source": [
        "#### Funciones que retornan\n",
        "\n",
        "Las funciones pueden retornar valores, es decir que el resultado de la ejecucuón de la función es un dato.  Este se puede usar en otras partes de un programa, como por ejemplo guardarlo en una variable"
      ],
      "metadata": {
        "id": "-i-Y_5X28z9_"
      }
    },
    {
      "cell_type": "code",
      "source": [
        "def sumar(valor1, valor2):\n",
        "    suma = valor1 + valor2\n",
        "    return suma"
      ],
      "metadata": {
        "id": "EoprM8jo89fD"
      },
      "execution_count": null,
      "outputs": []
    },
    {
      "cell_type": "code",
      "source": [
        "resultado = sumar(15,20)\n",
        "resultado"
      ],
      "metadata": {
        "id": "-pcIcKOU9D2w"
      },
      "execution_count": null,
      "outputs": []
    },
    {
      "cell_type": "markdown",
      "source": [
        "En Python (y la mayoría de lenguajes de programación) existen funcones disponibles en cualquier programa y que podemos llamar sin necesidad de definirlas, pues están definidas en la _librería estándar_ de Python.\n",
        "\n",
        "A continuación algunas muy útiles:\n",
        "\n"
      ],
      "metadata": {
        "id": "i2LIaVve9fPq"
      }
    },
    {
      "cell_type": "markdown",
      "source": [
        "#### print()\n",
        "\n",
        "La función ```print()``` toma un valor y lo imprime o lo muestra en la salida del programa (puede ser una ventana de terminal o la celda de un cuaderno interactivo.  "
      ],
      "metadata": {
        "id": "JCwHW2ZhuC4P"
      }
    },
    {
      "cell_type": "code",
      "source": [
        "print(\"Hola mundo!\")"
      ],
      "metadata": {
        "id": "mFSGnn6D-nQa"
      },
      "execution_count": null,
      "outputs": []
    },
    {
      "cell_type": "markdown",
      "source": [
        "Esta es una de las más utilizadas, sin embargo muchas veces no es necesario usarla en colab, pues solo al escribir el nombre de una variable la podemos 'imprimir'"
      ],
      "metadata": {
        "id": "FbFcXCzc_ZJ4"
      }
    },
    {
      "cell_type": "markdown",
      "source": [
        "#### len()\n",
        "\n",
        "Con la función ```len()``` podemos conocer la cantidad de elementos en una lista.  Esta función toma como parámetro una lista o ```list``` y retorna un ```int```."
      ],
      "metadata": {
        "id": "tp4aY45I_oho"
      }
    },
    {
      "cell_type": "code",
      "source": [
        "len(artista)"
      ],
      "metadata": {
        "id": "P5fDmlcd_WwR"
      },
      "execution_count": null,
      "outputs": []
    },
    {
      "cell_type": "markdown",
      "source": [
        "#### type()\n",
        "\n",
        "Esta función toma una variable como parámetro y retorna el tipo de dato de la misma.  Esribe entre los paréntesis el nombre de una de las variables declaradas arriba para saber su tipo de dato:"
      ],
      "metadata": {
        "id": "N_vqi4uNAE2d"
      }
    },
    {
      "cell_type": "code",
      "source": [
        "type(artista)\n"
      ],
      "metadata": {
        "id": "M3CfWEAIAUFm"
      },
      "execution_count": null,
      "outputs": []
    },
    {
      "cell_type": "markdown",
      "source": [
        "### Métodos\n",
        "\n",
        "Los métodos son funciones que 'pertenecen' a objetos.  Por ejemplo los diccionarios tienen un método ```get()``` para obtener valores por sus nombres:"
      ],
      "metadata": {
        "id": "PUEe6wQzCa6J"
      }
    },
    {
      "cell_type": "code",
      "source": [
        "artista.get('apellido')"
      ],
      "metadata": {
        "id": "pAUxkfYTCZ9j"
      },
      "execution_count": null,
      "outputs": []
    },
    {
      "cell_type": "markdown",
      "source": [
        "#### La notación de punto (dot notation)\n",
        "\n",
        "Como la variable ```artista``` es un diccionario, viene con el método ```get()```.  Para llamar el método usamos la notación de punto.  Podemos pensar en esta notación de la siguiente forma:  lo que está a la derecha del punto 'pertenece' o 'es parte' de lo que está a la izquierda del punto: ```objeto.metodo``` quiere decir que ```metodo``` pertenece a ```objeto```."
      ],
      "metadata": {
        "id": "T9MEZpm4D5uy"
      }
    },
    {
      "cell_type": "markdown",
      "source": [
        "#### Métodos de los 'strings'\n",
        "\n",
        "Por ejemplo, todos los objetos de tipo 'string', o ```str``` para ser más precisos, tienen una serie de métodos muy útles para manipular cadenas de texto.  Éstos métodos se pueden consultar en: https://docs.python.org/3/library/stdtypes.html#string-methods\n",
        "\n",
        "Aquí vamos a probar algunos."
      ],
      "metadata": {
        "id": "uh3dzFfLx8af"
      }
    },
    {
      "cell_type": "markdown",
      "source": [
        "Por ejemplo, es posible 'capitalizar' un texto con ```capitalize()```"
      ],
      "metadata": {
        "id": "xGdxXWGAyyZW"
      }
    },
    {
      "cell_type": "code",
      "source": [
        "\"beatriz\".capitalize()"
      ],
      "metadata": {
        "id": "moB9p_vPy-TL"
      },
      "execution_count": null,
      "outputs": []
    },
    {
      "cell_type": "markdown",
      "source": [
        "Con ```lower()``` se 'des - capitaliza':"
      ],
      "metadata": {
        "id": "68aelpN8zCDv"
      }
    },
    {
      "cell_type": "markdown",
      "source": [],
      "metadata": {
        "id": "-EQ8mhhU1v52"
      }
    },
    {
      "cell_type": "code",
      "source": [
        "\"Junio\".lower()"
      ],
      "metadata": {
        "id": "bGb7CknyzdWq"
      },
      "execution_count": null,
      "outputs": []
    },
    {
      "cell_type": "markdown",
      "source": [
        "Un string se comporta similar a una lista:"
      ],
      "metadata": {
        "id": "4iDo4K502Ghx"
      }
    },
    {
      "cell_type": "code",
      "source": [
        "colores = \"rojo, azul, amarillo, verde\"\n",
        "# r es el caracter número 0\n",
        "colores[7]"
      ],
      "metadata": {
        "id": "_gnxOuWG2KWa"
      },
      "execution_count": null,
      "outputs": []
    },
    {
      "cell_type": "markdown",
      "source": [
        "Cada caracter en un string tiene una posición como en una lista o array. El primer catracter es el [0], el segundo es el [1], y así."
      ],
      "metadata": {
        "id": "-ldDH9o32khV"
      }
    },
    {
      "cell_type": "code",
      "source": [
        "# se puede hacer slicing de un string\n",
        "colores[0:4]"
      ],
      "metadata": {
        "id": "SFqkxWIe2ga7"
      },
      "execution_count": null,
      "outputs": []
    },
    {
      "cell_type": "markdown",
      "source": [
        "Con el método ```find``` podemos encontrar un texto o patrón en un string.  Este método retorna el índice de la letra donde comienza el patrón:"
      ],
      "metadata": {
        "id": "KojDh1wH1eYh"
      }
    },
    {
      "cell_type": "code",
      "source": [
        "\"Las rosas son rojas\".find(\"s\")"
      ],
      "metadata": {
        "id": "SZSPVmGO1LFB"
      },
      "execution_count": null,
      "outputs": []
    },
    {
      "cell_type": "code",
      "source": [
        "colores = colores.replace(\" \",\"\")\n",
        "colores"
      ],
      "metadata": {
        "id": "zZFTvd3oWMcY"
      },
      "execution_count": null,
      "outputs": []
    },
    {
      "cell_type": "markdown",
      "source": [
        "Con el método ```split()``` podemos dividir un string por un caracter contenido en el mismo.  Retorna una lista con los elementos divididos, sin el caracter divisor o separador:"
      ],
      "metadata": {
        "id": "bT-a-5Fw23f5"
      }
    },
    {
      "cell_type": "code",
      "source": [
        "lista_colores = colores.split(\",\")\n",
        "lista_colores"
      ],
      "metadata": {
        "id": "-I2TPsIT3Ayi"
      },
      "execution_count": null,
      "outputs": []
    },
    {
      "cell_type": "code",
      "source": [
        "len(lista_colores)"
      ],
      "metadata": {
        "id": "5d50kh-vVbfz"
      },
      "execution_count": null,
      "outputs": []
    },
    {
      "cell_type": "markdown",
      "source": [
        "Con el método ```join()``` podemos unir los elementos de una lista, usando un caracter:"
      ],
      "metadata": {
        "id": "CTrjYn583fKq"
      }
    },
    {
      "cell_type": "code",
      "source": [
        "\"+\".join(lista_colores)"
      ],
      "metadata": {
        "id": "Yu8bnmzU3oz3"
      },
      "execution_count": null,
      "outputs": []
    },
    {
      "cell_type": "markdown",
      "source": [
        "Con ```startsWith()``` podemos saber si un string comienza con un texto.  La funución requere un string como parámetro y compara el inicio de la frase con este parámetro, si es igual retorna ```true``` si no, retorna ```false```.  La siguente función"
      ],
      "metadata": {
        "id": "rXFaG13AgWkZ"
      }
    },
    {
      "cell_type": "code",
      "source": [
        "\"https://www.google.com\".startswith(\"https\")"
      ],
      "metadata": {
        "id": "7fKNBofCgVUV"
      },
      "execution_count": null,
      "outputs": []
    },
    {
      "cell_type": "markdown",
      "source": [
        "### Estructuras de control\n",
        "\n",
        "Permiten definir procesos lógicos\n"
      ],
      "metadata": {
        "id": "Wa1RKpiKtZ8g"
      }
    },
    {
      "cell_type": "markdown",
      "source": [
        "#### Condicional\n",
        "\n",
        "Un condicional es una estructura de control que toma una expresión que se evalúa como ```true``` o ```false``` y ejecuta un bloque de código de acuerdo a el resultado de la evaluación de la condición.\n",
        "\n",
        "Sirve para 'tomar decisiones' de acuerdo al estado de ciertas variables o condiciones durante la ejecución del programa."
      ],
      "metadata": {
        "id": "KpXV4qP2ur9H"
      }
    },
    {
      "cell_type": "markdown",
      "source": [
        "##### Expresión booleana\n",
        "\n",
        "Un condicional evalúa una expresión booleana, es decir una expresión que puede resultar ```true``` o ```false```.\n",
        "\n",
        "La siguiente es una expresión booleana:"
      ],
      "metadata": {
        "id": "YIb1440Rm4JC"
      }
    },
    {
      "cell_type": "code",
      "source": [
        "10 == 12"
      ],
      "metadata": {
        "id": "KxpHIeC2nFzo"
      },
      "execution_count": null,
      "outputs": []
    },
    {
      "cell_type": "code",
      "source": [
        "12 >= 10"
      ],
      "metadata": {
        "id": "vsFMgHCvUOue"
      },
      "execution_count": null,
      "outputs": []
    },
    {
      "cell_type": "markdown",
      "source": [
        "Esta expresión se puede pensar como la pregunta ¿Es 10 igual a 10?.  La respuesta sería sí, o ```true```.  Es importante notar que el doble igual ```==``` es un operador de comparación, mientras que un solo igual es un opreador de asignación, es decir que con un solo igual asignamos asignamos lo que está a la derecha del igual a lo que está a la izquierda:"
      ],
      "metadata": {
        "id": "1fhaJIqunJ2p"
      }
    },
    {
      "cell_type": "code",
      "source": [
        "mayoria_edad = 18"
      ],
      "metadata": {
        "id": "0wek60Y2Zsfn"
      },
      "execution_count": null,
      "outputs": []
    },
    {
      "cell_type": "code",
      "source": [
        "#Aquí asignamos el valor 20 a la variable edad\n",
        "edad = 20\n",
        "#Aquí comparamos si la variable edad es igual a 20\n",
        "edad >= mayoria_edad"
      ],
      "metadata": {
        "id": "u-vw9yDloA1i"
      },
      "execution_count": null,
      "outputs": []
    },
    {
      "cell_type": "markdown",
      "source": [
        "##### If\n",
        "\n",
        "El if es el condicional más común.  Se puede resumir de la siguiente forma:\n",
        "\n",
        "```python\n",
        "if expressión:\n",
        "  bloque de código\n",
        "```\n",
        "\n",
        "La expresión es un código que se evalúa como True o False, usualmente involucra comparaciones entre los valores de una variable.\n",
        "\n",
        "Si la expresión se evalúa como True, el código en el bloque se ejecuta, si se evalua como false, el bloque de código no se ejecuta y el programa continúa adelante."
      ],
      "metadata": {
        "id": "6Fp3D8ZWotDj"
      }
    },
    {
      "cell_type": "code",
      "source": [
        "if edad >= 18:\n",
        "  print(\"Eres mayor de edad\")"
      ],
      "metadata": {
        "id": "exM9Pbzipmiw"
      },
      "execution_count": null,
      "outputs": []
    },
    {
      "cell_type": "markdown",
      "source": [
        "para complementar el ```if``` existe el ```else```.  Es una cláusula que ejecuta un bloque de código si la condición del ```if``` se evalúa como ```false```.\n",
        "\n",
        "Puede cambiar el valor de la variable ```edad``` para cambiar la ejecución del if/else"
      ],
      "metadata": {
        "id": "KWa0YJRjp4IQ"
      }
    },
    {
      "cell_type": "code",
      "source": [
        "if edad >= mayoria_edad:\n",
        "  #esta línea se ejecuta si la expresión resuta true\n",
        "  print(\"Eres mayor de edad\")\n",
        "else:\n",
        "  #esta línea se ejecuta si la expresión resuta false\n",
        "  print(\"Eres menor de edad\")"
      ],
      "metadata": {
        "id": "kFbo_EOVtrXL"
      },
      "execution_count": null,
      "outputs": []
    },
    {
      "cell_type": "markdown",
      "source": [
        "Podemos combinar varias condiciones con el operadores lógicos como 'and', 'or'"
      ],
      "metadata": {
        "id": "t3egB5K6tMWY"
      }
    },
    {
      "cell_type": "code",
      "source": [
        "# declaramos una variable con el nombre de un color\n",
        "color = 'rojo'\n",
        "\n",
        "# creamos un condicional para evaluar si el color es primario\n",
        "# está compuesto de tres comparaciones de la variable color\n",
        "# que se concatenan con el operador 'or'\n",
        "if color == 'rojo' or color == 'azul' or color == 'amarillo':\n",
        "  print(\"El color es primario\")\n",
        "else:\n",
        "  print(\"El color no es primario\")"
      ],
      "metadata": {
        "id": "Dogh6z3ztJ_V"
      },
      "execution_count": null,
      "outputs": []
    },
    {
      "cell_type": "markdown",
      "source": [
        "El siguiente condicional usa el operador ```and``` para evaluar si dos condiciones son ciertas al mismo tiempo.  Si lo son, el código al interior del if se va a ejecutar."
      ],
      "metadata": {
        "id": "YEvMewnRvh6g"
      }
    },
    {
      "cell_type": "code",
      "source": [
        "if edad > 18 and nombre == 'Beatriz':\n",
        "  print(\"Eres mayor de edad y te llamas Beatriz\")"
      ],
      "metadata": {
        "id": "oZotlVaPvbbG"
      },
      "execution_count": null,
      "outputs": []
    },
    {
      "cell_type": "markdown",
      "source": [
        "Por ejemplo, podemos usar funciones que retorna true o false para integrarlas en condicionales.  El siguiente ejemplo usa el método ```startsWith()``` para detectar si una url es segura:"
      ],
      "metadata": {
        "id": "inMImzbnhdrt"
      }
    },
    {
      "cell_type": "code",
      "source": [
        "url = 'https://www.google.com'\n",
        "\n",
        "if url.startswith('https:') or url.startswith('http:'):\n",
        "  if url.startswith('https:'):\n",
        "    print(\"La url es segura\")\n",
        "  else:\n",
        "    print(\"La url no es segura\")\n",
        "else:\n",
        "  print(\"La url no está bien formada, no puedo determinar si es segura o no\")"
      ],
      "metadata": {
        "id": "Xc_3Bi6ihwru"
      },
      "execution_count": null,
      "outputs": []
    },
    {
      "cell_type": "markdown",
      "source": [
        "#### Iteración\n",
        "\n",
        "Una iteración es la ejecución repetida de un bloque de código.  Generalmente las estructuras repetitivas se usan para automarizar tareas, sobre todo operar sobre conjuntos de objetos o variables.\n",
        "\n",
        "En python hay varias formas de crear iteraciones."
      ],
      "metadata": {
        "id": "V_M526mhuyKW"
      }
    },
    {
      "cell_type": "markdown",
      "source": [
        "##### While\n",
        "\n",
        "La estructura de control ```while``` ejecuta un código mientras que una expresión se evalúa como ```true``` y para la ejecución cuando retorna ```false```.\n",
        "\n",
        "Es común usar variables de control para definir un número finito de repeticiones.  La siguiente es una típica iteración que usa un contador."
      ],
      "metadata": {
        "id": "atCxIHKJkg33"
      }
    },
    {
      "cell_type": "code",
      "source": [
        "# Primero se declara la variable de control\n",
        "# y se le da un valor inicial\n",
        "contador = 0\n",
        "# Luego se crea la estructura de control\n",
        "# que se ejecuta mientras el contador sea menor a 10\n",
        "# después del while viene la expresión booleana\n",
        "while contador <= 50:\n",
        "  #El código indentado se ejecuta repetidamente\n",
        "  #hasta que la expresión booleana se evalúa como false\n",
        "  print(contador)\n",
        "  # En cada iteración se le suma 1 al contador\n",
        "  # esto asegura que la variable llegue a 10\n",
        "  # y termine la iteración\n",
        "  contador = contador + 1\n",
        "\n",
        "print(\"Ya terminó la iteración\")"
      ],
      "metadata": {
        "id": "3SEKdMkRkgDC"
      },
      "execution_count": null,
      "outputs": []
    },
    {
      "cell_type": "markdown",
      "source": [
        "##### For\n",
        "\n",
        "Otra estructura de control para hacer iteraciones es el ```for```.  Con el ```for``` se aplica a objetos iterables como listas, tuplas, strings, entre otros."
      ],
      "metadata": {
        "id": "XZn4vYDm2CkQ"
      }
    },
    {
      "cell_type": "code",
      "source": [
        "#iteración sobre la lista etiquetas\n",
        "for et in etiquetas:\n",
        "  # Bloque de código de la iteracióon\n",
        "  # que se ejecuta para cada elemento de la lista\n",
        "  # la variable et representa cada etiqueta en la iteración.\n",
        "  print('La etiqueta es: ' + et)\n"
      ],
      "metadata": {
        "id": "iIAx7Z40u2at"
      },
      "execution_count": null,
      "outputs": []
    },
    {
      "cell_type": "markdown",
      "source": [
        "Usando la función ```enumerate()``` podemos llevar la cuenta de la iteración:"
      ],
      "metadata": {
        "id": "a61vbcAK4zpQ"
      }
    },
    {
      "cell_type": "code",
      "source": [
        "for ind, et in enumerate(etiquetas):\n",
        "  print(f\"Iteración número {ind}, valor: {et}\")"
      ],
      "metadata": {
        "id": "Mp8WcEOu484T"
      },
      "execution_count": null,
      "outputs": []
    },
    {
      "cell_type": "markdown",
      "source": [
        "En el trabajo con datos es más común iterar con el ```for``` que con el ```while``` ya que, en general, los datos estructurados se almacenan en objetos como listas y diccionarios.\n",
        "\n",
        "En el siguiente ejemplo se itera sobre una lista de diccionarios, en la que cada diccionario representa una obra de Beatriz González.\n",
        "\n",
        "Primero creamos la lista de diccionarios:"
      ],
      "metadata": {
        "id": "725f3-dJCXoe"
      }
    },
    {
      "cell_type": "code",
      "source": [
        "obras = [\n",
        "  {\n",
        "    \"ID\": 1,\n",
        "    \"creator\": \"Beatriz González\",\n",
        "    \"title\": \"Los Suicidas del Sisga No 1\",\n",
        "    \"date\": \"1965-01-01\",\n",
        "    \"ancho\": 120,\n",
        "    \"alto\": 100,\n",
        "    \"medium\": \"Óleo sobre lienzo\"\n",
        "  },\n",
        "  {\n",
        "    \"ID\": 2,\n",
        "    \"creator\": \"Beatriz González\",\n",
        "    \"title\": \"El Paraíso\",\n",
        "    \"date\": \"1997-01-01\",\n",
        "    \"ancho\": 160,\n",
        "    \"alto\": 45,\n",
        "    \"medium\": \"Óleo sobre lienzo\"\n",
        "  },\n",
        "  {\n",
        "    \"ID\": 3,\n",
        "    \"creator\": \"Beatriz González\",\n",
        "    \"title\": \"Zócalo de la tragedia\",\n",
        "    \"date\": \"1983-01-01\",\n",
        "    \"ancho\": 100,\n",
        "    \"alto\": 70,\n",
        "    \"medium\": \"Tipografía sobre papel\"\n",
        "  },\n",
        "  {\n",
        "    \"ID\": 4,\n",
        "    \"creator\": \"Beatriz González\",\n",
        "    \"title\": \"El jaguar colombiano\",\n",
        "    \"date\": \"1969-01-01\",\n",
        "    \"ancho\": 24,\n",
        "    \"alto\": 24,\n",
        "    \"medium\": \"Tinta y contact sobre papel\"\n",
        "  },\n",
        "  {\n",
        "    \"ID\": 5,\n",
        "    \"creator\": \"Beatriz González\",\n",
        "    \"title\": \"El jaguar colombiano (segundo original)\",\n",
        "    \"date\": \"1969-01-01\",\n",
        "    \"ancho\": 24,\n",
        "    \"alto\": 26,\n",
        "    \"medium\": \"Heliograbado sobre papel\"\n",
        "  }\n",
        "]"
      ],
      "metadata": {
        "id": "NhI00_h0CUpK"
      },
      "execution_count": null,
      "outputs": []
    },
    {
      "cell_type": "markdown",
      "source": [
        "Luego iteramos sobre la lista.  En la iteración vamos a construir un string uniendo los valores de las propiedades."
      ],
      "metadata": {
        "id": "g4eUHZOlDMYK"
      }
    },
    {
      "cell_type": "code",
      "source": [
        "for obra in obras:\n",
        "  print( obra['creator'] + ',' +  obra['title'] + ',' +  obra['date'] + ',' +  obra['medium'])"
      ],
      "metadata": {
        "id": "bdB8tx7ODg38"
      },
      "execution_count": null,
      "outputs": []
    },
    {
      "cell_type": "markdown",
      "source": [
        "Es posible construir iteraciones anidadas, es decir iteraciones dentro una iteración\n",
        "\n",
        "En el siguiente ejemplo, la primera iteración se usa para recorrer la lista de obras y la segunda para recorrer las propuedades e imprimir sus nombres (llaves o keys) y sus valores."
      ],
      "metadata": {
        "id": "CS8ot0sKIC8G"
      }
    },
    {
      "cell_type": "code",
      "source": [
        "# Esta primera iteración recorre la lista de obras\n",
        "for obra in obras:\n",
        "  # Esta segunda iteración recorre las propiedades\n",
        "  # extrayendo los nombres de las propiedades y sus valores\n",
        "  # el métido items() de los diccionarios retorna parejas de nombres y valores\n",
        "  # por cada propiedad del diccionario\n",
        "  for key, value in obra.items():\n",
        "    # Usamos la función print con el parámetro 'sep'\n",
        "    # que define un caracter que separa los dos valores a imprimir\n",
        "    print(key, value, sep=': ')\n",
        "  # Este print se ejecuta al final de cada iteración sobre las proiedades\n",
        "  # del diccionoario y sirve para separar visualmente\n",
        "  # los datos de una obra de la siguiente\n",
        "  print('---')"
      ],
      "metadata": {
        "id": "L4nwyb8nHs0w"
      },
      "execution_count": null,
      "outputs": []
    },
    {
      "cell_type": "markdown",
      "source": [
        "Podemos transformar los diccionarios de la lista de obras durante la iteración.  En el siguiente ejemplo, dentro de cada iteración se hace una comparacióno entre las propiedades ancho y alto de la imagen.  Para ello creamos un if/elif/else que se ejecuta en cada iteración:"
      ],
      "metadata": {
        "id": "BXn367yVK0bt"
      }
    },
    {
      "cell_type": "code",
      "source": [
        "# Iteración sobre la lista de diccionarios\n",
        "for obra in obras:\n",
        "  # El if evalúa si el ancho es mayor al alto\n",
        "  if obra.get('ancho') > obra.get('alto'):\n",
        "    # De ser así, se agrega la propiedad 'orientacion' con el valor 'horizontal'\n",
        "    obra['orientacion'] = 'horizontal'\n",
        "  # elif se ejecuta si la condición en el if de arriba se evalúa como 'false'\n",
        "  # y definimos otra condición que evalúa si el ancho es igual al alto\n",
        "  elif obra.get('ancho') == obra.get('alto'):\n",
        "    # En tal caso, la propiedad 'orientacion' adquiere el valor 'cuadrada'\n",
        "    obra['orientacion'] = 'cuadrada'\n",
        "    # Si ninguno de las condiciones anteriores se cumple\n",
        "  else:\n",
        "    # Entonces la oreintación es vertical\n",
        "    obra['orientacion'] = 'vertical'"
      ],
      "metadata": {
        "id": "Q6rzStblHGAy"
      },
      "execution_count": null,
      "outputs": []
    },
    {
      "cell_type": "markdown",
      "source": [
        "Si inspeccionamos el contenido de obras, podemos ver que cada diccionario tiene una nueva propieda llamada orientación"
      ],
      "metadata": {
        "id": "sO4BGt-ZOedL"
      }
    },
    {
      "cell_type": "code",
      "source": [
        "obras"
      ],
      "metadata": {
        "id": "eSkqQTcXHTXj"
      },
      "execution_count": null,
      "outputs": []
    },
    {
      "cell_type": "markdown",
      "source": [
        "## Conclusión\n",
        "\n",
        "Hemos visto en este cuaderno los aspectos básicos del lenguaje de programación en python. Para ampliar el tema puede consultar los siguientes recursos:\n",
        "\n",
        "https://programminghistorian.org/es/lecciones/introduccion-e-instalacion\n",
        "\n",
        "https://www.codecademy.com/catalog/language/python\n",
        "\n",
        "https://www.programiz.com/python-programming\n",
        "\n"
      ],
      "metadata": {
        "id": "LEb2DoiFQmua"
      }
    }
  ]
}